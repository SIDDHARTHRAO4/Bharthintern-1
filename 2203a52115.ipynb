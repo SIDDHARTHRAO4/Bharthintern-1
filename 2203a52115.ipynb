{
  "nbformat": 4,
  "nbformat_minor": 0,
  "metadata": {
    "colab": {
      "provenance": [],
      "authorship_tag": "ABX9TyMVZjQAiO9Qy6+iV1gJs1+G",
      "include_colab_link": true
    },
    "kernelspec": {
      "name": "python3",
      "display_name": "Python 3"
    },
    "language_info": {
      "name": "python"
    }
  },
  "cells": [
    {
      "cell_type": "markdown",
      "metadata": {
        "id": "view-in-github",
        "colab_type": "text"
      },
      "source": [
        "<a href=\"https://colab.research.google.com/github/SIDDHARTHRAO4/Bharthintern-1/blob/main/2203a52115.ipynb\" target=\"_parent\"><img src=\"https://colab.research.google.com/assets/colab-badge.svg\" alt=\"Open In Colab\"/></a>"
      ]
    },
    {
      "cell_type": "code",
      "execution_count": 22,
      "metadata": {
        "id": "uimbIHH6HRTK"
      },
      "outputs": [],
      "source": [
        "import numpy as np"
      ]
    },
    {
      "cell_type": "markdown",
      "source": [
        "PART-**1** **bold text**"
      ],
      "metadata": {
        "id": "lNV2WOtER9PP"
      }
    },
    {
      "cell_type": "code",
      "source": [
        "list1=[]\n",
        "n1=int(input(\"enter the no itesm:\"))\n",
        "i=0\n",
        "for i in range(n1):\n",
        "  x=(input(\"Enter the item:\"))\n",
        "  list1.append(x)\n",
        "list2=[]\n",
        "n2=int(input(\"enter the no itesm:\"))\n",
        "i=0\n",
        "for i in range(n2):\n",
        "  x=(input(\"Enter the item:\"))\n",
        "  list2.append(x)\n",
        "print(list1)\n",
        "print(list2)\n"
      ],
      "metadata": {
        "colab": {
          "base_uri": "https://localhost:8080/"
        },
        "id": "XdKoQditIUuY",
        "outputId": "d4cfa989-2c60-41da-be09-70694f9fd31e"
      },
      "execution_count": 39,
      "outputs": [
        {
          "output_type": "stream",
          "name": "stdout",
          "text": [
            "enter the no itesm:4\n",
            "Enter the item:1\n",
            "Enter the item:2\n",
            "Enter the item:3\n",
            "Enter the item:4\n",
            "enter the no itesm:4\n",
            "Enter the item:5\n",
            "Enter the item:6\n",
            "Enter the item:7\n",
            "Enter the item:8\n",
            "['1', '2', '3', '4']\n",
            "['5', '6', '7', '8']\n"
          ]
        }
      ]
    },
    {
      "cell_type": "code",
      "source": [
        "list1=[1,2,3,4]\n",
        "list2=[5,6,7,8]\n",
        "array1=np.array(list1)\n",
        "array2=np.array(list2)\n",
        "print(\"Type of array1:\", type(array1))\n",
        "print(\"Type of array2:\", type(array2))\n",
        "result=np.multiply(array1,array2)\n",
        "print(\"Result:\", result)\n"
      ],
      "metadata": {
        "colab": {
          "base_uri": "https://localhost:8080/"
        },
        "id": "zEW-ANCPJ8YD",
        "outputId": "c1b7793d-2ff4-42ca-8a83-e580fc14e92b"
      },
      "execution_count": 47,
      "outputs": [
        {
          "output_type": "stream",
          "name": "stdout",
          "text": [
            "Type of array1: <class 'numpy.ndarray'>\n",
            "Type of array2: <class 'numpy.ndarray'>\n",
            "Result: [ 5 12 21 32]\n"
          ]
        }
      ]
    },
    {
      "cell_type": "code",
      "source": [
        "result=np.divide(array2,array1)\n",
        "print(\"Result:\", result)"
      ],
      "metadata": {
        "colab": {
          "base_uri": "https://localhost:8080/"
        },
        "id": "EuaMewdkPfAH",
        "outputId": "389b8558-e2b9-4621-fe28-25cd953223dc"
      },
      "execution_count": 50,
      "outputs": [
        {
          "output_type": "stream",
          "name": "stdout",
          "text": [
            "Result: [5.         3.         2.33333333 2.        ]\n"
          ]
        }
      ]
    },
    {
      "cell_type": "code",
      "source": [
        "result=np.power(array2,array1)\n",
        "print(\"Result:\", result)"
      ],
      "metadata": {
        "colab": {
          "base_uri": "https://localhost:8080/"
        },
        "id": "lmJk7D9JPzdx",
        "outputId": "2600830b-4f51-4397-d35f-2c5598939ce1"
      },
      "execution_count": 51,
      "outputs": [
        {
          "output_type": "stream",
          "name": "stdout",
          "text": [
            "Result: [   5   36  343 4096]\n"
          ]
        }
      ]
    },
    {
      "cell_type": "code",
      "source": [
        "result=np.add(array1,array2)\n",
        "print(\"Addition of Two:array1 +array 2:\", result)"
      ],
      "metadata": {
        "colab": {
          "base_uri": "https://localhost:8080/"
        },
        "id": "EOlV8gN8PXqN",
        "outputId": "be41a0da-4ea7-4ba6-f0b4-38bc99f18c1c"
      },
      "execution_count": 53,
      "outputs": [
        {
          "output_type": "stream",
          "name": "stdout",
          "text": [
            "Addition of Two:array1 +array 2: [ 6  8 10 12]\n"
          ]
        }
      ]
    },
    {
      "cell_type": "code",
      "source": [
        "result=np.sin(array1)\n",
        "print(\"np.sin() Result:\", result)"
      ],
      "metadata": {
        "colab": {
          "base_uri": "https://localhost:8080/"
        },
        "id": "3hZQRzI2QTq4",
        "outputId": "5cfba328-c536-4d33-ce0f-3f9be5158dbf"
      },
      "execution_count": 54,
      "outputs": [
        {
          "output_type": "stream",
          "name": "stdout",
          "text": [
            "np.sin() Result: [ 0.84147098  0.90929743  0.14112001 -0.7568025 ]\n"
          ]
        }
      ]
    },
    {
      "cell_type": "code",
      "source": [
        "result=np.log(array1)\n",
        "print(\"log()Result:\", result)"
      ],
      "metadata": {
        "colab": {
          "base_uri": "https://localhost:8080/"
        },
        "id": "emiIFZqEQ0du",
        "outputId": "00df0225-f687-4051-e5da-02a81d131e9b"
      },
      "execution_count": 55,
      "outputs": [
        {
          "output_type": "stream",
          "name": "stdout",
          "text": [
            "log()Result: [0.         0.69314718 1.09861229 1.38629436]\n"
          ]
        }
      ]
    },
    {
      "cell_type": "code",
      "source": [
        "result=np.log2(array1)\n",
        "print(\"log2()Result:\", result)"
      ],
      "metadata": {
        "colab": {
          "base_uri": "https://localhost:8080/"
        },
        "id": "3jQSmlLFQ8F8",
        "outputId": "62c6a369-cfe5-48e8-eacd-a63adc42b5d8"
      },
      "execution_count": 56,
      "outputs": [
        {
          "output_type": "stream",
          "name": "stdout",
          "text": [
            "log2()Result: [0.        1.        1.5849625 2.       ]\n"
          ]
        }
      ]
    },
    {
      "cell_type": "code",
      "source": [
        "result=np.exp(array1)\n",
        "print(\"np.exp()Result:\", result)"
      ],
      "metadata": {
        "colab": {
          "base_uri": "https://localhost:8080/"
        },
        "id": "02PihNyDRFBH",
        "outputId": "4f3d07d1-1484-4b0c-a351-5e331e8742d5"
      },
      "execution_count": 57,
      "outputs": [
        {
          "output_type": "stream",
          "name": "stdout",
          "text": [
            "np.exp()Result: [ 2.71828183  7.3890561  20.08553692 54.59815003]\n"
          ]
        }
      ]
    },
    {
      "cell_type": "code",
      "source": [],
      "metadata": {
        "id": "M33E69bZR441"
      },
      "execution_count": null,
      "outputs": []
    },
    {
      "cell_type": "markdown",
      "source": [
        "**PART-2**"
      ],
      "metadata": {
        "id": "r56J8dz2SJZQ"
      }
    },
    {
      "cell_type": "code",
      "source": [
        "import pandas as pd\n",
        "import matplotlib.pyplot as plt"
      ],
      "metadata": {
        "id": "sjFJCBfHSNS7"
      },
      "execution_count": 58,
      "outputs": []
    },
    {
      "cell_type": "code",
      "source": [
        "import pandas as pd\n",
        "\n",
        "people = ['kiran', 'arun', 'vijay', 'varun']\n",
        "age = [25, 30, 35, 40]\n",
        "height = [145, 151, 165, 173]\n",
        "weight = [45, 55, 65, 75]\n",
        "\n",
        "healthcare_data = pd.DataFrame({\n",
        "    'People': people,\n",
        "    'Age': age,\n",
        "    'Height': height,\n",
        "    'Weight': weight\n",
        "})\n",
        "\n",
        "print(healthcare_data)\n"
      ],
      "metadata": {
        "colab": {
          "base_uri": "https://localhost:8080/"
        },
        "id": "oAR-d5IQU9it",
        "outputId": "90a6f805-3ec3-41f1-d369-c9e710f63a97"
      },
      "execution_count": 73,
      "outputs": [
        {
          "output_type": "stream",
          "name": "stdout",
          "text": [
            "  People  Age  Height  Weight\n",
            "0  kiran   25     145      45\n",
            "1   arun   30     151      55\n",
            "2  vijay   35     165      65\n",
            "3  varun   40     173      75\n"
          ]
        }
      ]
    },
    {
      "cell_type": "code",
      "source": [
        "import matplotlib.pyplot as plt\n",
        "\n",
        "plt.scatter(healthcare_data['Age'], healthcare_data['Weight'])\n",
        "plt.title('Scatter Plot of Age vs Weight')\n",
        "plt.xlabel('Age')\n",
        "plt.ylabel('Weight')\n",
        "plt.show()\n"
      ],
      "metadata": {
        "colab": {
          "base_uri": "https://localhost:8080/",
          "height": 472
        },
        "id": "HkMkRDrKcjFH",
        "outputId": "7f584e53-3304-40dc-ad31-2bf9e5f2e71f"
      },
      "execution_count": 74,
      "outputs": [
        {
          "output_type": "display_data",
          "data": {
            "text/plain": [
              "<Figure size 640x480 with 1 Axes>"
            ],
            "image/png": "[encoded data removed]"
          },
          "metadata": {}
        }
      ]
    },
    {
      "cell_type": "code",
      "source": [
        "plt.bar(healthcare_data['People'], healthcare_data['Height'])\n",
        "plt.title('Bar Chart of People vs Height')\n",
        "plt.xlabel('People')\n",
        "plt.ylabel('Height')\n",
        "plt.show()\n"
      ],
      "metadata": {
        "colab": {
          "base_uri": "https://localhost:8080/",
          "height": 472
        },
        "id": "AFCa1hrTcr3w",
        "outputId": "7ad704d9-c7c4-4e90-9003-52981890c284"
      },
      "execution_count": 75,
      "outputs": [
        {
          "output_type": "display_data",
          "data": {
            "text/plain": [
              "<Figure size 640x480 with 1 Axes>"
            ],
            "image/png": "[encoded data removed]"
          },
          "metadata": {}
        }
      ]
    },
    {
      "cell_type": "code",
      "source": [
        "plt.hist(healthcare_data['Height'], bins=10, edgecolor='black')\n",
        "plt.title('Histogram of Height')\n",
        "plt.xlabel('Height')\n",
        "plt.ylabel('Frequency')\n",
        "plt.show()"
      ],
      "metadata": {
        "colab": {
          "base_uri": "https://localhost:8080/",
          "height": 472
        },
        "id": "TgwDKA6_cxbs",
        "outputId": "7b9af48c-5a46-488d-8897-75ef3e0fb721"
      },
      "execution_count": 76,
      "outputs": [
        {
          "output_type": "display_data",
          "data": {
            "text/plain": [
              "<Figure size 640x480 with 1 Axes>"
            ],
            "image/png": "[encoded data removed]"
          },
          "metadata": {}
        }
      ]
    },
    {
      "cell_type": "code",
      "source": [
        "df=\"/content/Health Care - Sheet1.csv\"\n",
        "data=pd.read_csv(df)\n",
        "print(data)"
      ],
      "metadata": {
        "colab": {
          "base_uri": "https://localhost:8080/"
        },
        "id": "swyqxE4agIDd",
        "outputId": "6393d906-e0e2-4008-dbbc-480ee7bd00ad"
      },
      "execution_count": 77,
      "outputs": [
        {
          "output_type": "stream",
          "name": "stdout",
          "text": [
            "  PEOPLE  AGE  HEIGHT  WEIGHT\n",
            "0  Kiran   25     145      42\n",
            "1   Arun   30     152      54\n",
            "2  Vijay   35     163      46\n",
            "3  Varun   45     170      78\n"
          ]
        }
      ]
    },
    {
      "cell_type": "code",
      "source": [
        "df=\"/content/Health Care.xlsx\"\n",
        "data=pd.read_excel(df)\n",
        "print(data)"
      ],
      "metadata": {
        "colab": {
          "base_uri": "https://localhost:8080/"
        },
        "id": "IV5yqghthQ9x",
        "outputId": "29e6e43d-703b-4a8f-acd9-d18a952ab9ef"
      },
      "execution_count": 80,
      "outputs": [
        {
          "output_type": "stream",
          "name": "stdout",
          "text": [
            "  PEOPLE  AGE  HEIGHT  WEIGHT\n",
            "0  Kiran   25     145      42\n",
            "1   Arun   30     152      54\n",
            "2  Vijay   35     163      46\n",
            "3  Varun   45     170      78\n"
          ]
        }
      ]
    },
    {
      "cell_type": "code",
      "source": [
        "df=\"/content/assignment-1.tsv\"\n",
        "data=pd.read_csv(df,delimiter='\\t')\n",
        "print(data)"
      ],
      "metadata": {
        "colab": {
          "base_uri": "https://localhost:8080/"
        },
        "id": "cgwsM56Sh1CK",
        "outputId": "07a5d750-e381-4ab1-9da9-7a70c604d6b2"
      },
      "execution_count": 82,
      "outputs": [
        {
          "output_type": "stream",
          "name": "stdout",
          "text": [
            "    Unnamed: 0 Unnamed: 1 Unnamed: 2 Unnamed: 3 Unnamed: 4 Unnamed: 5  \\\n",
            "0          NaN    JANUARY        NaN        NaN        NaN        NaN   \n",
            "1          NaN          S          M          T          W          T   \n",
            "2          NaN        NaN        NaN        NaN        NaN        NaN   \n",
            "3          NaN          2          3          4          5          6   \n",
            "4          NaN          9         10         11         12         13   \n",
            "5          NaN         16         17         18         19         20   \n",
            "6          NaN         23         24         25         26         27   \n",
            "7          NaN         30         31        NaN        NaN        NaN   \n",
            "8          NaN        NaN        NaN        NaN        NaN        NaN   \n",
            "9          NaN     APRIL         NaN        NaN        NaN        NaN   \n",
            "10         NaN          S          M          T          W          T   \n",
            "11         NaN        NaN        NaN        NaN        NaN        NaN   \n",
            "12         NaN          3          4          5          6          7   \n",
            "13         NaN         10         11         12         13         14   \n",
            "14         NaN         17         18         19         20         21   \n",
            "15         NaN         24         25         26         27         28   \n",
            "16         NaN        NaN        NaN        NaN        NaN        NaN   \n",
            "17         NaN        NaN        NaN        NaN        NaN        NaN   \n",
            "18         NaN       JULY        NaN        NaN        NaN        NaN   \n",
            "19         NaN          S          M          T          W          T   \n",
            "20         NaN        NaN        NaN        NaN        NaN        NaN   \n",
            "21         NaN          3          4          5          6          7   \n",
            "22         NaN         10         11         12         13         14   \n",
            "23         NaN         17         18         19         20         21   \n",
            "24         NaN         24         25         26         27         28   \n",
            "25         NaN         31        NaN        NaN        NaN        NaN   \n",
            "26         NaN        NaN        NaN        NaN        NaN        NaN   \n",
            "27         NaN    OCTOBER        NaN        NaN        NaN        NaN   \n",
            "28         NaN          S          M          T          W          T   \n",
            "29         NaN        NaN        NaN        NaN        NaN        NaN   \n",
            "30         NaN          2          3          4          5          6   \n",
            "31         NaN          9         10         11         12         13   \n",
            "32         NaN         16         17         18         19         20   \n",
            "33         NaN         23         24         25         26         27   \n",
            "34         NaN         30         31        NaN        NaN        NaN   \n",
            "\n",
            "   Unnamed: 6 Unnamed: 7  Unnamed: 8 Unnamed: 9  ... Unnamed: 17 Unnamed: 18  \\\n",
            "0         NaN        NaN         NaN   FEBRUARY  ...       MARCH         NaN   \n",
            "1           F          S         NaN          S  ...           S           M   \n",
            "2         NaN          1         NaN        NaN  ...         NaN         NaN   \n",
            "3           7          8         NaN          6  ...           6           7   \n",
            "4          14         15         NaN         13  ...          13          14   \n",
            "5          21         22         NaN         20  ...          20          21   \n",
            "6          28         29         NaN         27  ...          27          28   \n",
            "7         NaN        NaN         NaN        NaN  ...         NaN         NaN   \n",
            "8         NaN        NaN         NaN        NaN  ...         NaN         NaN   \n",
            "9         NaN        NaN         NaN        MAY  ...        JUNE         NaN   \n",
            "10          F          S         NaN          S  ...           S           M   \n",
            "11          1          2         NaN          1  ...         NaN         NaN   \n",
            "12          8          9         NaN          8  ...           5           6   \n",
            "13         15         16         NaN         15  ...          12          13   \n",
            "14         22         23         NaN         22  ...          19          20   \n",
            "15         29         30         NaN         29  ...          26          27   \n",
            "16        NaN        NaN         NaN        NaN  ...         NaN         NaN   \n",
            "17        NaN        NaN         NaN        NaN  ...         NaN         NaN   \n",
            "18        NaN        NaN         NaN     AUGUST  ...   SEPTEMBER         NaN   \n",
            "19          F          S         NaN          S  ...           S           M   \n",
            "20          1          2         NaN        NaN  ...         NaN         NaN   \n",
            "21          8          9         NaN          7  ...           4           5   \n",
            "22         15         16         NaN         14  ...          11          12   \n",
            "23         22         23         NaN         21  ...          18          19   \n",
            "24         29         30         NaN         28  ...          25          26   \n",
            "25        NaN        NaN         NaN        NaN  ...         NaN         NaN   \n",
            "26        NaN        NaN         NaN        NaN  ...         NaN         NaN   \n",
            "27        NaN        NaN         NaN   NOVEMBER  ...    DECEMBER         NaN   \n",
            "28          F          S         NaN          S  ...           S           M   \n",
            "29        NaN          1         NaN        NaN  ...         NaN         NaN   \n",
            "30          7          8         NaN          6  ...           4           5   \n",
            "31         14         15         NaN         13  ...          11          12   \n",
            "32         21         22         NaN         20  ...          18          19   \n",
            "33         28         29         NaN         27  ...          25          26   \n",
            "34        NaN        NaN         NaN        NaN  ...         NaN         NaN   \n",
            "\n",
            "   Unnamed: 19 Unnamed: 20 Unnamed: 21 Unnamed: 22  Unnamed: 23 Unnamed: 24  \\\n",
            "0          NaN         NaN         NaN         NaN          NaN         NaN   \n",
            "1            T           W           T           F            S         NaN   \n",
            "2            1           2           3           4            5         NaN   \n",
            "3            8           9          10          11           12         NaN   \n",
            "4           15          16          17          18           19         NaN   \n",
            "5           22          23          24          25           26         NaN   \n",
            "6           29          30          31         NaN          NaN         NaN   \n",
            "7          NaN         NaN         NaN         NaN          NaN         NaN   \n",
            "8          NaN         NaN         NaN         NaN          NaN         NaN   \n",
            "9          NaN         NaN         NaN         NaN          NaN         NaN   \n",
            "10           T           W           T           F            S         NaN   \n",
            "11         NaN           1           2           3            4         NaN   \n",
            "12           7           8           9          10           11         NaN   \n",
            "13          14          15          16          17           18         NaN   \n",
            "14          21          22          23          24           25         NaN   \n",
            "15          28          29          30         NaN          NaN         NaN   \n",
            "16         NaN         NaN         NaN         NaN          NaN         NaN   \n",
            "17         NaN         NaN         NaN         NaN          NaN         NaN   \n",
            "18         NaN         NaN         NaN         NaN          NaN         NaN   \n",
            "19           T           W           T           F            S         NaN   \n",
            "20         NaN         NaN           1           2            3         NaN   \n",
            "21           6           7           8           9           10         NaN   \n",
            "22          13          14          15          16           17         NaN   \n",
            "23          20          21          22          23           24         NaN   \n",
            "24          27          28          29          30          NaN         NaN   \n",
            "25         NaN         NaN         NaN         NaN          NaN         NaN   \n",
            "26         NaN         NaN         NaN         NaN          NaN         NaN   \n",
            "27         NaN         NaN         NaN         NaN          NaN         NaN   \n",
            "28           T           W           T           F            S         NaN   \n",
            "29         NaN         NaN           1           2            3         NaN   \n",
            "30           6           7           8           9           10         NaN   \n",
            "31          13          14          15          16           17         NaN   \n",
            "32          20          21          22          23           24         NaN   \n",
            "33          27          28          29          30           31         NaN   \n",
            "34         NaN         NaN         NaN         NaN          NaN         NaN   \n",
            "\n",
            "   2022 Create more with themes              Go to  Format  >> Theme  \n",
            "0   NaN                                                NaN            \n",
            "1   NaN                                                NaN            \n",
            "2   NaN                                                NaN            \n",
            "3   NaN                                                NaN            \n",
            "4   NaN                                                NaN            \n",
            "5   NaN                                                NaN            \n",
            "6   NaN                                                NaN            \n",
            "7   NaN                                                NaN            \n",
            "8   NaN                                                NaN            \n",
            "9   NaN                                                NaN            \n",
            "10  NaN                                                NaN            \n",
            "11  NaN                                                NaN            \n",
            "12  NaN                                                NaN            \n",
            "13  NaN                                                NaN            \n",
            "14  NaN                                                NaN            \n",
            "15  NaN                                                NaN            \n",
            "16  NaN                                                NaN            \n",
            "17  NaN                                                NaN            \n",
            "18  NaN                                                NaN            \n",
            "19  NaN                                                NaN            \n",
            "20  NaN                                                NaN            \n",
            "21  NaN                                                NaN            \n",
            "22  NaN                                                NaN            \n",
            "23  NaN                                                NaN            \n",
            "24  NaN                                                NaN            \n",
            "25  NaN                                                NaN            \n",
            "26  NaN                                                NaN            \n",
            "27  NaN                                                NaN            \n",
            "28  NaN                                                NaN            \n",
            "29  NaN                                                NaN            \n",
            "30  NaN                                                NaN            \n",
            "31  NaN                                                NaN            \n",
            "32  NaN                                                NaN            \n",
            "33  NaN                                                NaN            \n",
            "34  NaN                                                NaN            \n",
            "\n",
            "[35 rows x 27 columns]\n"
          ]
        }
      ]
    }
  ]
}