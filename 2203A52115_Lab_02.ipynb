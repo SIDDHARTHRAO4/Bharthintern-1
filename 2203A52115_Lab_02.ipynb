{
  "nbformat": 4,
  "nbformat_minor": 0,
  "metadata": {
    "colab": {
      "provenance": [],
      "authorship_tag": "ABX9TyPXA+87YnhlQIKp/xaiEBmG",
      "include_colab_link": true
    },
    "kernelspec": {
      "name": "python3",
      "display_name": "Python 3"
    },
    "language_info": {
      "name": "python"
    }
  },
  "cells": [
    {
      "cell_type": "markdown",
      "metadata": {
        "id": "view-in-github",
        "colab_type": "text"
      },
      "source": [
        "<a href=\"https://colab.research.google.com/github/SIDDHARTHRAO4/Bharthintern-1/blob/main/2203A52115_Lab_02.ipynb\" target=\"_parent\"><img src=\"https://colab.research.google.com/assets/colab-badge.svg\" alt=\"Open In Colab\"/></a>"
      ]
    },
    {
      "cell_type": "code",
      "execution_count": 1,
      "metadata": {
        "id": "YBrj3VovLgnO"
      },
      "outputs": [],
      "source": [
        "import numpy as np"
      ]
    },
    {
      "cell_type": "code",
      "source": [
        "import pandas as pd\n",
        "from sklearn.preprocessing import MinMaxScaler"
      ],
      "metadata": {
        "id": "WkHcLD-pMUxV"
      },
      "execution_count": 2,
      "outputs": []
    },
    {
      "cell_type": "code",
      "source": [
        "import pandas as pd\n",
        "import numpy as np\n",
        "from sklearn.preprocessing import MinMaxScaler\n",
        "\n",
        "\n",
        "data = {\n",
        "    'Gender': [1, 1, 1, 1, 1, 1, 1, 1, 1, 2, 2, 2, 2, 2, 2],\n",
        "    'Age Range': [1, 1, 1, 1, 1, 1, 1, 1, 2, 2, 2, 2, 2, 2, 2],\n",
        "    'Head Size(cm^3)': [4512, 3738, 4261, 3777, 4177, 3585, 3785, 3559, 3613, 3982, 3443, 3993, 3640, 4208, 3832],\n",
        "    'Brain Weight(grams)': [1530, 1297, 1335, 1282, 1590, 1300, 1400, 1255, 1355, 1375, 1340, 1380, 1355, 1522, 1208]\n",
        "}\n",
        "\n",
        "df = pd.DataFrame(data)\n",
        "scaler = MinMaxScaler()\n",
        "df_scaled = pd.DataFrame(scaler.fit_transform(df[['Gender', 'Age Range', 'Head Size(cm^3)', 'Brain Weight(grams)']]),\n",
        "                         columns=['Gender', 'Age Range', 'Head Size(cm^3)', 'Brain Weight(grams)'])\n",
        "print(df_scaled)\n"
      ],
      "metadata": {
        "colab": {
          "base_uri": "https://localhost:8080/"
        },
        "id": "C93RKbwkM2l9",
        "outputId": "5735ae66-2187-4d2b-9d5b-dcd9ca736112"
      },
      "execution_count": 22,
      "outputs": [
        {
          "output_type": "stream",
          "name": "stdout",
          "text": [
            "    Gender  Age Range  Head Size(cm^3)  Brain Weight(grams)\n",
            "0      0.0        0.0         1.000000             0.842932\n",
            "1      0.0        0.0         0.275959             0.232984\n",
            "2      0.0        0.0         0.765201             0.332461\n",
            "3      0.0        0.0         0.312442             0.193717\n",
            "4      0.0        0.0         0.686623             1.000000\n",
            "5      0.0        0.0         0.132834             0.240838\n",
            "6      0.0        0.0         0.319925             0.502618\n",
            "7      0.0        0.0         0.108513             0.123037\n",
            "8      0.0        1.0         0.159027             0.384817\n",
            "9      1.0        1.0         0.504210             0.437173\n",
            "10     1.0        1.0         0.000000             0.345550\n",
            "11     1.0        1.0         0.514500             0.450262\n",
            "12     1.0        1.0         0.184284             0.384817\n",
            "13     1.0        1.0         0.715622             0.821990\n",
            "14     1.0        1.0         0.363891             0.000000\n"
          ]
        }
      ]
    },
    {
      "cell_type": "code",
      "source": [
        "import pandas as pd\n",
        "\n",
        "file_path = '/content/housing.csv'\n",
        "housing_data = pd.read_csv(file_path)\n",
        "data_description = housing_data.describe()\n",
        "print(data_description)\n",
        "\n",
        "data_info = housing_data.info()\n",
        "print(\"\\nData Types and Shape:\")\n",
        "print(data_info)\n",
        "\n",
        "null_values = housing_data.isnull().sum()\n",
        "print(\"\\nNull Values:\")\n",
        "print(null_values)\n",
        "\n",
        "housing_data_filled_mean = housing_data.fillna(housing_data.mean())\n",
        "housing_data_filled_zero = housing_data.fillna(0)\n",
        "\n",
        "columns_filled_with_zero = (housing_data_filled_zero != housing_data).any()[housing_data.isnull().any()].index.tolist()\n",
        "print(\"\\nColumns filled with '0':\")\n",
        "print(columns_filled_with_zero)\n",
        "\n",
        "\n",
        "\n"
      ],
      "metadata": {
        "colab": {
          "base_uri": "https://localhost:8080/"
        },
        "id": "CoplyQahWJb7",
        "outputId": "902695ac-adac-4d52-e29d-60c2b3850b44"
      },
      "execution_count": 29,
      "outputs": [
        {
          "output_type": "stream",
          "name": "stdout",
          "text": [
            "          longitude      latitude  housing_median_age   total_rooms  \\\n",
            "count  20640.000000  20640.000000        20640.000000  20640.000000   \n",
            "mean    -119.569704     35.631861           28.639486   2635.763081   \n",
            "std        2.003532      2.135952           12.585558   2181.615252   \n",
            "min     -124.350000     32.540000            1.000000      2.000000   \n",
            "25%     -121.800000     33.930000           18.000000   1447.750000   \n",
            "50%     -118.490000     34.260000           29.000000   2127.000000   \n",
            "75%     -118.010000     37.710000           37.000000   3148.000000   \n",
            "max     -114.310000     41.950000           52.000000  39320.000000   \n",
            "\n",
            "       total_bedrooms    population    households  median_income  \\\n",
            "count    20433.000000  20640.000000  20640.000000   20640.000000   \n",
            "mean       537.870553   1425.476744    499.539680       3.870671   \n",
            "std        421.385070   1132.462122    382.329753       1.899822   \n",
            "min          1.000000      3.000000      1.000000       0.499900   \n",
            "25%        296.000000    787.000000    280.000000       2.563400   \n",
            "50%        435.000000   1166.000000    409.000000       3.534800   \n",
            "75%        647.000000   1725.000000    605.000000       4.743250   \n",
            "max       6445.000000  35682.000000   6082.000000      15.000100   \n",
            "\n",
            "       median_house_value  \n",
            "count        20640.000000  \n",
            "mean        206855.816909  \n",
            "std         115395.615874  \n",
            "min          14999.000000  \n",
            "25%         119600.000000  \n",
            "50%         179700.000000  \n",
            "75%         264725.000000  \n",
            "max         500001.000000  \n",
            "<class 'pandas.core.frame.DataFrame'>\n",
            "RangeIndex: 20640 entries, 0 to 20639\n",
            "Data columns (total 10 columns):\n",
            " #   Column              Non-Null Count  Dtype  \n",
            "---  ------              --------------  -----  \n",
            " 0   longitude           20640 non-null  float64\n",
            " 1   latitude            20640 non-null  float64\n",
            " 2   housing_median_age  20640 non-null  float64\n",
            " 3   total_rooms         20640 non-null  float64\n",
            " 4   total_bedrooms      20433 non-null  float64\n",
            " 5   population          20640 non-null  float64\n",
            " 6   households          20640 non-null  float64\n",
            " 7   median_income       20640 non-null  float64\n",
            " 8   median_house_value  20640 non-null  float64\n",
            " 9   ocean_proximity     20640 non-null  object \n",
            "dtypes: float64(9), object(1)\n",
            "memory usage: 1.6+ MB\n",
            "\n",
            "Data Types and Shape:\n",
            "None\n",
            "\n",
            "Null Values:\n",
            "longitude               0\n",
            "latitude                0\n",
            "housing_median_age      0\n",
            "total_rooms             0\n",
            "total_bedrooms        207\n",
            "population              0\n",
            "households              0\n",
            "median_income           0\n",
            "median_house_value      0\n",
            "ocean_proximity         0\n",
            "dtype: int64\n",
            "\n",
            "Columns filled with '0':\n",
            "['total_bedrooms']\n"
          ]
        },
        {
          "output_type": "stream",
          "name": "stderr",
          "text": [
            "<ipython-input-29-3e7773cfa922>:16: FutureWarning: The default value of numeric_only in DataFrame.mean is deprecated. In a future version, it will default to False. In addition, specifying 'numeric_only=None' is deprecated. Select only valid columns or specify the value of numeric_only to silence this warning.\n",
            "  housing_data_filled_mean = housing_data.fillna(housing_data.mean())\n"
          ]
        }
      ]
    },
    {
      "cell_type": "code",
      "source": [
        "import pandas as pd\n",
        "df = pd.read_csv('/content/housing.csv')\n",
        "def min_max_scaling(col):\n",
        "    return (col - col.min()) / (col.max() - col.min())\n",
        "\n",
        "\n",
        "columns_to_scale = ['Head Size(cm^3)', 'Brain Weight(grams)']\n",
        "df_normalized = df.copy()\n",
        "\n",
        "\n",
        "df_normalized.dropna(subset=columns_to_scale, inplace=True)\n",
        "\n",
        "df_normalized[columns_to_scale] = df_normalized[columns_to_scale].apply(min_max_scaling, axis=0)\n",
        "\n",
        "print(df_normalized)"
      ],
      "metadata": {
        "colab": {
          "base_uri": "https://localhost:8080/",
          "height": 404
        },
        "id": "xC5ClY7hajgB",
        "outputId": "e7dc6fd1-5afc-4ac3-8c53-c9779bdac4c3"
      },
      "execution_count": 32,
      "outputs": [
        {
          "output_type": "error",
          "ename": "KeyError",
          "evalue": "['Head Size(cm^3)', 'Brain Weight(grams)']",
          "traceback": [
            "\u001b[0;31m---------------------------------------------------------------------------\u001b[0m",
            "\u001b[0;31mKeyError\u001b[0m                                  Traceback (most recent call last)",
            "\u001b[0;32m<ipython-input-32-32e229698362>\u001b[0m in \u001b[0;36m<cell line: 14>\u001b[0;34m()\u001b[0m\n\u001b[1;32m     12\u001b[0m \u001b[0;34m\u001b[0m\u001b[0m\n\u001b[1;32m     13\u001b[0m \u001b[0;34m\u001b[0m\u001b[0m\n\u001b[0;32m---> 14\u001b[0;31m \u001b[0mdf_normalized\u001b[0m\u001b[0;34m.\u001b[0m\u001b[0mdropna\u001b[0m\u001b[0;34m(\u001b[0m\u001b[0msubset\u001b[0m\u001b[0;34m=\u001b[0m\u001b[0mcolumns_to_scale\u001b[0m\u001b[0;34m,\u001b[0m \u001b[0minplace\u001b[0m\u001b[0;34m=\u001b[0m\u001b[0;32mTrue\u001b[0m\u001b[0;34m)\u001b[0m\u001b[0;34m\u001b[0m\u001b[0;34m\u001b[0m\u001b[0m\n\u001b[0m\u001b[1;32m     15\u001b[0m \u001b[0;34m\u001b[0m\u001b[0m\n\u001b[1;32m     16\u001b[0m \u001b[0mdf_normalized\u001b[0m\u001b[0;34m[\u001b[0m\u001b[0mcolumns_to_scale\u001b[0m\u001b[0;34m]\u001b[0m \u001b[0;34m=\u001b[0m \u001b[0mdf_normalized\u001b[0m\u001b[0;34m[\u001b[0m\u001b[0mcolumns_to_scale\u001b[0m\u001b[0;34m]\u001b[0m\u001b[0;34m.\u001b[0m\u001b[0mapply\u001b[0m\u001b[0;34m(\u001b[0m\u001b[0mmin_max_scaling\u001b[0m\u001b[0;34m,\u001b[0m \u001b[0maxis\u001b[0m\u001b[0;34m=\u001b[0m\u001b[0;36m0\u001b[0m\u001b[0;34m)\u001b[0m\u001b[0;34m\u001b[0m\u001b[0;34m\u001b[0m\u001b[0m\n",
            "\u001b[0;32m/usr/local/lib/python3.10/dist-packages/pandas/util/_decorators.py\u001b[0m in \u001b[0;36mwrapper\u001b[0;34m(*args, **kwargs)\u001b[0m\n\u001b[1;32m    329\u001b[0m                     \u001b[0mstacklevel\u001b[0m\u001b[0;34m=\u001b[0m\u001b[0mfind_stack_level\u001b[0m\u001b[0;34m(\u001b[0m\u001b[0;34m)\u001b[0m\u001b[0;34m,\u001b[0m\u001b[0;34m\u001b[0m\u001b[0;34m\u001b[0m\u001b[0m\n\u001b[1;32m    330\u001b[0m                 )\n\u001b[0;32m--> 331\u001b[0;31m             \u001b[0;32mreturn\u001b[0m \u001b[0mfunc\u001b[0m\u001b[0;34m(\u001b[0m\u001b[0;34m*\u001b[0m\u001b[0margs\u001b[0m\u001b[0;34m,\u001b[0m \u001b[0;34m**\u001b[0m\u001b[0mkwargs\u001b[0m\u001b[0;34m)\u001b[0m\u001b[0;34m\u001b[0m\u001b[0;34m\u001b[0m\u001b[0m\n\u001b[0m\u001b[1;32m    332\u001b[0m \u001b[0;34m\u001b[0m\u001b[0m\n\u001b[1;32m    333\u001b[0m         \u001b[0;31m# error: \"Callable[[VarArg(Any), KwArg(Any)], Any]\" has no\u001b[0m\u001b[0;34m\u001b[0m\u001b[0;34m\u001b[0m\u001b[0m\n",
            "\u001b[0;32m/usr/local/lib/python3.10/dist-packages/pandas/core/frame.py\u001b[0m in \u001b[0;36mdropna\u001b[0;34m(self, axis, how, thresh, subset, inplace)\u001b[0m\n\u001b[1;32m   6559\u001b[0m             \u001b[0mcheck\u001b[0m \u001b[0;34m=\u001b[0m \u001b[0mindices\u001b[0m \u001b[0;34m==\u001b[0m \u001b[0;34m-\u001b[0m\u001b[0;36m1\u001b[0m\u001b[0;34m\u001b[0m\u001b[0;34m\u001b[0m\u001b[0m\n\u001b[1;32m   6560\u001b[0m             \u001b[0;32mif\u001b[0m \u001b[0mcheck\u001b[0m\u001b[0;34m.\u001b[0m\u001b[0many\u001b[0m\u001b[0;34m(\u001b[0m\u001b[0;34m)\u001b[0m\u001b[0;34m:\u001b[0m\u001b[0;34m\u001b[0m\u001b[0;34m\u001b[0m\u001b[0m\n\u001b[0;32m-> 6561\u001b[0;31m                 \u001b[0;32mraise\u001b[0m \u001b[0mKeyError\u001b[0m\u001b[0;34m(\u001b[0m\u001b[0mnp\u001b[0m\u001b[0;34m.\u001b[0m\u001b[0marray\u001b[0m\u001b[0;34m(\u001b[0m\u001b[0msubset\u001b[0m\u001b[0;34m)\u001b[0m\u001b[0;34m[\u001b[0m\u001b[0mcheck\u001b[0m\u001b[0;34m]\u001b[0m\u001b[0;34m.\u001b[0m\u001b[0mtolist\u001b[0m\u001b[0;34m(\u001b[0m\u001b[0;34m)\u001b[0m\u001b[0;34m)\u001b[0m\u001b[0;34m\u001b[0m\u001b[0;34m\u001b[0m\u001b[0m\n\u001b[0m\u001b[1;32m   6562\u001b[0m             \u001b[0magg_obj\u001b[0m \u001b[0;34m=\u001b[0m \u001b[0mself\u001b[0m\u001b[0;34m.\u001b[0m\u001b[0mtake\u001b[0m\u001b[0;34m(\u001b[0m\u001b[0mindices\u001b[0m\u001b[0;34m,\u001b[0m \u001b[0maxis\u001b[0m\u001b[0;34m=\u001b[0m\u001b[0magg_axis\u001b[0m\u001b[0;34m)\u001b[0m\u001b[0;34m\u001b[0m\u001b[0;34m\u001b[0m\u001b[0m\n\u001b[1;32m   6563\u001b[0m \u001b[0;34m\u001b[0m\u001b[0m\n",
            "\u001b[0;31mKeyError\u001b[0m: ['Head Size(cm^3)', 'Brain Weight(grams)']"
          ]
        }
      ]
    },
    {
      "cell_type": "code",
      "source": [
        "import pandas as pd\n",
        "from sklearn.model_selection import train_test_split\n",
        "from sklearn.preprocessing import MinMaxScaler, LabelEncoder\n",
        "\n",
        "file_path = '/content/housing.csv'\n",
        "housing_data = pd.read_csv(file_path)\n",
        "target_variable_column_name = 'housing_median_age'\n",
        "features = housing_data.drop(target_variable_column_name, axis=1)\n",
        "target = housing_data[target_variable_column_name]\n",
        "\n",
        "categorical_cols = features.select_dtypes(include=['object']).columns\n",
        "label_encoder = LabelEncoder()\n",
        "features[categorical_cols] = features[categorical_cols].apply(label_encoder.fit_transform)\n",
        "\n",
        "scaler = MinMaxScaler()\n",
        "normalized_features = pd.DataFrame(scaler.fit_transform(features), columns=features.columns)\n",
        "\n",
        "X_train, X_test, y_train, y_test = train_test_split(normalized_features, target, test_size=0.2, random_state=42)\n",
        "\n",
        "print(\"Target variable (housing_median_age):\")\n",
        "print(target.head())\n",
        "\n",
        "print(\"\\nFeatures:\")\n",
        "print(normalized_features.head())\n",
        "\n",
        "print(\"\\nShape of X_train:\", X_train.shape)\n",
        "print(\"Shape of X_test:\", X_test.shape)\n",
        "print(\"Shape of y_train:\", y_train.shape)\n",
        "print(\"Shape of y_test:\", y_test.shape)\n"
      ],
      "metadata": {
        "colab": {
          "base_uri": "https://localhost:8080/"
        },
        "id": "KbZi2TxYc86q",
        "outputId": "79f04d25-e0a5-4af2-deb8-3b771a2072b7"
      },
      "execution_count": 43,
      "outputs": [
        {
          "output_type": "stream",
          "name": "stdout",
          "text": [
            "Target variable (housing_median_age):\n",
            "0    41.0\n",
            "1    21.0\n",
            "2    52.0\n",
            "3    52.0\n",
            "4    52.0\n",
            "Name: housing_median_age, dtype: float64\n",
            "\n",
            "Features:\n",
            "   longitude  latitude  total_rooms  total_bedrooms  population  households  \\\n",
            "0   0.211155  0.567481     0.022331        0.019863    0.008941    0.020556   \n",
            "1   0.212151  0.565356     0.180503        0.171477    0.067210    0.186976   \n",
            "2   0.210159  0.564293     0.037260        0.029330    0.013818    0.028943   \n",
            "3   0.209163  0.564293     0.032352        0.036313    0.015555    0.035849   \n",
            "4   0.209163  0.564293     0.041330        0.043296    0.015752    0.042427   \n",
            "\n",
            "   median_income  median_house_value  ocean_proximity  \n",
            "0       0.539668            0.902266             0.75  \n",
            "1       0.538027            0.708247             0.75  \n",
            "2       0.466028            0.695051             0.75  \n",
            "3       0.354699            0.672783             0.75  \n",
            "4       0.230776            0.674638             0.75  \n",
            "\n",
            "Shape of X_train: (16512, 9)\n",
            "Shape of X_test: (4128, 9)\n",
            "Shape of y_train: (16512,)\n",
            "Shape of y_test: (4128,)\n"
          ]
        }
      ]
    }
  ]
}